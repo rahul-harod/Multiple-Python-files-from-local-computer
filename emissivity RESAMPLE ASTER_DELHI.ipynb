{
 "cells": [
  {
   "cell_type": "code",
   "execution_count": 1,
   "metadata": {
    "ExecuteTime": {
     "end_time": "2020-10-29T09:53:22.062743Z",
     "start_time": "2020-10-29T09:53:08.831750Z"
    }
   },
   "outputs": [],
   "source": [
    "from osgeo import gdal\n",
    "import numpy as np\n",
    "import matplotlib.pyplot as plt\n",
    "import tables\n",
    "import h5py"
   ]
  },
  {
   "cell_type": "code",
   "execution_count": 8,
   "metadata": {
    "ExecuteTime": {
     "end_time": "2020-10-29T09:56:24.156039Z",
     "start_time": "2020-10-29T09:56:23.789108Z"
    }
   },
   "outputs": [
    {
     "name": "stdout",
     "output_type": "stream",
     "text": [
      "Driver: HDF5/Hierarchical Data Format Release 5\n",
      "Files: E://LST project/AG100.v003.29.076.0001_delhi_west.h5\n",
      "Size is 512, 512\n",
      "Coordinate System is `'\n",
      "Metadata:\n",
      "  ASTER_GDEM_ASTGDEM_Description=ASTER GDEM resampled to NAALSED\n",
      "  Emissivity_Mean_Description=Mean Emissivity for each pixel on grid-box using all ASTER data from 2000-2010\n",
      "  Emissivity_SDev_Description=Emissivity Standard Deviation for each pixel on grid-box using all ASTER data from 2000-2010\n",
      "  Geolocation_Latitude_Description=Latitude\n",
      "  Geolocation_Longitude_Description=Longitude\n",
      "  Land_Water_Map_LWmap_Description=Land Water Map using ASTER visible bands\n",
      "  NDVI_Mean_Description=Mean NDVI for each pixel on grid-box using all ASTER data from 2000-2010\n",
      "  NDVI_SDev_Description=NDVI Standard Deviation for each pixel on grid-box using all ASTER data from 2000-2010\n",
      "  Observations_NumObs_Description=Number of values used in computing mean and standard deviation for each pixel\n",
      "  Temperature_Mean_Description=Mean Temperature (K) for each pixel on grid-box using all ASTER data from 2000-2010\n",
      "  Temperature_SDev_Description=Temperature Standard Deviation for each pixel on grid-box using all ASTER data from 2000-2010\n",
      "Subdatasets:\n",
      "  SUBDATASET_1_NAME=HDF5:\"E://LST project/AG100.v003.29.076.0001_delhi_west.h5\"://ASTER_GDEM/ASTGDEM\n",
      "  SUBDATASET_1_DESC=[1000x1000] //ASTER_GDEM/ASTGDEM (16-bit integer)\n",
      "  SUBDATASET_2_NAME=HDF5:\"E://LST project/AG100.v003.29.076.0001_delhi_west.h5\"://Emissivity/Mean\n",
      "  SUBDATASET_2_DESC=[5x1000x1000] //Emissivity/Mean (16-bit integer)\n",
      "  SUBDATASET_3_NAME=HDF5:\"E://LST project/AG100.v003.29.076.0001_delhi_west.h5\"://Emissivity/SDev\n",
      "  SUBDATASET_3_DESC=[5x1000x1000] //Emissivity/SDev (16-bit integer)\n",
      "  SUBDATASET_4_NAME=HDF5:\"E://LST project/AG100.v003.29.076.0001_delhi_west.h5\"://Geolocation/Latitude\n",
      "  SUBDATASET_4_DESC=[1000x1000] //Geolocation/Latitude (32-bit floating-point)\n",
      "  SUBDATASET_5_NAME=HDF5:\"E://LST project/AG100.v003.29.076.0001_delhi_west.h5\"://Geolocation/Longitude\n",
      "  SUBDATASET_5_DESC=[1000x1000] //Geolocation/Longitude (32-bit floating-point)\n",
      "  SUBDATASET_6_NAME=HDF5:\"E://LST project/AG100.v003.29.076.0001_delhi_west.h5\"://Land_Water_Map/LWmap\n",
      "  SUBDATASET_6_DESC=[1000x1000] //Land_Water_Map/LWmap (16-bit integer)\n",
      "  SUBDATASET_7_NAME=HDF5:\"E://LST project/AG100.v003.29.076.0001_delhi_west.h5\"://NDVI/Mean\n",
      "  SUBDATASET_7_DESC=[1000x1000] //NDVI/Mean (16-bit integer)\n",
      "  SUBDATASET_8_NAME=HDF5:\"E://LST project/AG100.v003.29.076.0001_delhi_west.h5\"://NDVI/SDev\n",
      "  SUBDATASET_8_DESC=[1000x1000] //NDVI/SDev (16-bit integer)\n",
      "  SUBDATASET_9_NAME=HDF5:\"E://LST project/AG100.v003.29.076.0001_delhi_west.h5\"://Observations/NumObs\n",
      "  SUBDATASET_9_DESC=[1000x1000] //Observations/NumObs (16-bit integer)\n",
      "  SUBDATASET_10_NAME=HDF5:\"E://LST project/AG100.v003.29.076.0001_delhi_west.h5\"://Temperature/Mean\n",
      "  SUBDATASET_10_DESC=[1000x1000] //Temperature/Mean (32-bit integer)\n",
      "  SUBDATASET_11_NAME=HDF5:\"E://LST project/AG100.v003.29.076.0001_delhi_west.h5\"://Temperature/SDev\n",
      "  SUBDATASET_11_DESC=[1000x1000] //Temperature/SDev (16-bit integer)\n",
      "Corner Coordinates:\n",
      "Upper Left  (    0.0,    0.0)\n",
      "Lower Left  (    0.0,  512.0)\n",
      "Upper Right (  512.0,    0.0)\n",
      "Lower Right (  512.0,  512.0)\n",
      "Center      (  256.0,  256.0)\n",
      "\n"
     ]
    }
   ],
   "source": [
    "data=gdal.Open(r\"E://LST project/AG100.v003.29.076.0001_delhi_west.h5\")\n",
    "print(gdal.Info(data))\n",
    "hdf=gdal.Open(data.GetSubDatasets()[1][0],gdal.GA_ReadOnly)"
   ]
  },
  {
   "cell_type": "code",
   "execution_count": 17,
   "metadata": {
    "ExecuteTime": {
     "end_time": "2020-08-07T07:54:20.352795Z",
     "start_time": "2020-08-07T07:54:20.344797Z"
    }
   },
   "outputs": [],
   "source": [
    "\n",
    "# h=gdal.Open(\"HDF5:E:\\LST project\\AG100.v003.20.072.0001.h5://Emissivity/Mean\")\n",
    "# o=h.GetRasterBand(1)\n",
    "# emissivity=hdf.ReadAsArray()\n",
    "# emissivity=emissivity[1,:,:]\n",
    "# gdal.Translate(r\"E:\\\\AST.tif\",h,format='GTiff')\n",
    "\n",
    "### for hdf5 to GTiff conversion\n",
    "# astr=gdal.Translate(\" \",h,format='GTiff')\n",
    "# p=astr.GetRasterBand(1)\n",
    "# p.ReadAsArray()"
   ]
  },
  {
   "cell_type": "code",
   "execution_count": 18,
   "metadata": {
    "ExecuteTime": {
     "end_time": "2020-08-07T07:54:22.464561Z",
     "start_time": "2020-08-07T07:54:22.416567Z"
    }
   },
   "outputs": [
    {
     "data": {
      "text/plain": [
       "'GEOGCS[\"WGS 84\",DATUM[\"WGS_1984\",SPHEROID[\"WGS 84\",6378137,298.257223563,AUTHORITY[\"EPSG\",\"7030\"]],AUTHORITY[\"EPSG\",\"6326\"]],PRIMEM[\"Greenwich\",0,AUTHORITY[\"EPSG\",\"8901\"]],UNIT[\"degree\",0.0174532925199433,AUTHORITY[\"EPSG\",\"9122\"]],AUTHORITY[\"EPSG\",\"4326\"]]'"
      ]
     },
     "execution_count": 18,
     "metadata": {},
     "output_type": "execute_result"
    }
   ],
   "source": [
    "h=gdal.Open(\"HDF5:E://LST project/AG100.v003.29.076.0001_delhi_west.h5://Emissivity/Mean\")\n",
    "h.GetGCPProjection()"
   ]
  },
  {
   "cell_type": "code",
   "execution_count": 19,
   "metadata": {
    "ExecuteTime": {
     "end_time": "2020-08-07T07:54:23.664339Z",
     "start_time": "2020-08-07T07:54:23.632345Z"
    }
   },
   "outputs": [
    {
     "data": {
      "text/plain": [
       "'PROJCS[\"WGS 84 / UTM zone 43N\",GEOGCS[\"WGS 84\",DATUM[\"WGS_1984\",SPHEROID[\"WGS 84\",6378137,298.257223563,AUTHORITY[\"EPSG\",\"7030\"]],AUTHORITY[\"EPSG\",\"6326\"]],PRIMEM[\"Greenwich\",0],UNIT[\"degree\",0.0174532925199433],AUTHORITY[\"EPSG\",\"4326\"]],PROJECTION[\"Transverse_Mercator\"],PARAMETER[\"latitude_of_origin\",0],PARAMETER[\"central_meridian\",75],PARAMETER[\"scale_factor\",0.9996],PARAMETER[\"false_easting\",500000],PARAMETER[\"false_northing\",0],UNIT[\"metre\",1,AUTHORITY[\"EPSG\",\"9001\"]],AUTHORITY[\"EPSG\",\"32643\"]]'"
      ]
     },
     "execution_count": 19,
     "metadata": {},
     "output_type": "execute_result"
    }
   ],
   "source": [
    "s=gdal.Open(r\"E:\\LST project\\train_data_set\\delhi\\LE07_L1TP_146040_20010504_20170205_01_T1_sr_band4.tif\")\n",
    "proj=s.GetProjection()\n",
    "proj"
   ]
  },
  {
   "cell_type": "code",
   "execution_count": 20,
   "metadata": {
    "ExecuteTime": {
     "end_time": "2020-08-07T07:54:43.175870Z",
     "start_time": "2020-08-07T07:54:36.938879Z"
    }
   },
   "outputs": [],
   "source": [
    "projected=gdal.Warp(\" \",h,\n",
    "         dstSRS=proj,\n",
    "         )\n",
    "t=gdal.Warp(r\"E:\\LST project\\train_data_set\\delhi\\ASTER_PROJ_west.tif\",projected,\n",
    "         xRes=100,yRes=100,\n",
    "          resampleAlg=gdal.GRA_Average\n",
    "         )"
   ]
  },
  {
   "cell_type": "code",
   "execution_count": 21,
   "metadata": {
    "ExecuteTime": {
     "end_time": "2020-08-07T07:54:43.223866Z",
     "start_time": "2020-08-07T07:54:43.207867Z"
    }
   },
   "outputs": [
    {
     "name": "stdout",
     "output_type": "stream",
     "text": [
      "(597353.3502032508, 100.0, 0.0, 3209690.8176620584, 0.0, -100.0) \n",
      "\n",
      " PROJCS[\"WGS 84 / UTM zone 43N\",GEOGCS[\"WGS 84\",DATUM[\"WGS_1984\",SPHEROID[\"WGS 84\",6378137,298.257223563,AUTHORITY[\"EPSG\",\"7030\"]],AUTHORITY[\"EPSG\",\"6326\"]],PRIMEM[\"Greenwich\",0],UNIT[\"degree\",0.0174532925199433],AUTHORITY[\"EPSG\",\"4326\"]],PROJECTION[\"Transverse_Mercator\"],PARAMETER[\"latitude_of_origin\",0],PARAMETER[\"central_meridian\",75],PARAMETER[\"scale_factor\",0.9996],PARAMETER[\"false_easting\",500000],PARAMETER[\"false_northing\",0],UNIT[\"metre\",1,AUTHORITY[\"EPSG\",\"9001\"]],AUTHORITY[\"EPSG\",\"32643\"]]\n"
     ]
    }
   ],
   "source": [
    "geo=t.GetGeoTransform()\n",
    "proj=t.GetProjection()\n",
    "print(geo,\"\\n\\n\",proj)"
   ]
  },
  {
   "cell_type": "code",
   "execution_count": 22,
   "metadata": {
    "ExecuteTime": {
     "end_time": "2020-08-07T07:54:43.463831Z",
     "start_time": "2020-08-07T07:54:43.271856Z"
    }
   },
   "outputs": [
    {
     "data": {
      "text/plain": [
       "(1122, 993)"
      ]
     },
     "execution_count": 22,
     "metadata": {},
     "output_type": "execute_result"
    }
   ],
   "source": [
    "AE3=t.ReadAsArray()[3]\n",
    "AE4=t.ReadAsArray()[4]\n",
    "AE3.shape"
   ]
  },
  {
   "cell_type": "code",
   "execution_count": 23,
   "metadata": {
    "ExecuteTime": {
     "end_time": "2020-08-07T07:54:43.703797Z",
     "start_time": "2020-08-07T07:54:43.607812Z"
    }
   },
   "outputs": [
    {
     "data": {
      "text/plain": [
       "(1122, 993)"
      ]
     },
     "execution_count": 23,
     "metadata": {},
     "output_type": "execute_result"
    }
   ],
   "source": [
    "emissivity=0.0002147*AE3+0.0007789*AE4+0.0058\n",
    "emissivity.shape"
   ]
  },
  {
   "cell_type": "code",
   "execution_count": 24,
   "metadata": {
    "ExecuteTime": {
     "end_time": "2020-08-07T07:54:43.855779Z",
     "start_time": "2020-08-07T07:54:43.759792Z"
    }
   },
   "outputs": [
    {
     "data": {
      "text/plain": [
       "array([[nan, nan, nan, ..., nan, nan, nan],\n",
       "       [nan, nan, nan, ..., nan, nan, nan],\n",
       "       [nan, nan, nan, ..., nan, nan, nan],\n",
       "       ...,\n",
       "       [nan, nan, nan, ..., nan, nan, nan],\n",
       "       [nan, nan, nan, ..., nan, nan, nan],\n",
       "       [nan, nan, nan, ..., nan, nan, nan]])"
      ]
     },
     "execution_count": 24,
     "metadata": {},
     "output_type": "execute_result"
    }
   ],
   "source": [
    "emissivity[emissivity<=0.7]=np.nan\n",
    "emissivity"
   ]
  },
  {
   "cell_type": "code",
   "execution_count": 25,
   "metadata": {
    "ExecuteTime": {
     "end_time": "2020-08-07T07:55:14.620690Z",
     "start_time": "2020-08-07T07:55:14.233288Z"
    }
   },
   "outputs": [],
   "source": [
    "driver=gdal.GetDriverByName(\"GTiff\")\n",
    "ds=driver.Create(r\"E:\\LST project\\train_data_set\\delhi\\ASTER_100m_Emissivity_L7_west.tif\",AE3.shape[1],AE3.shape[0], 1,gdal.GDT_Float32)\n",
    "ds.SetProjection(proj)\n",
    "ds.SetGeoTransform(geo)\n",
    "ds.GetRasterBand(1).WriteArray(emissivity)\n",
    "ds=None"
   ]
  },
  {
   "cell_type": "code",
   "execution_count": null,
   "metadata": {},
   "outputs": [],
   "source": []
  }
 ],
 "metadata": {
  "kernelspec": {
   "display_name": "Python 3",
   "language": "python",
   "name": "python3"
  },
  "language_info": {
   "codemirror_mode": {
    "name": "ipython",
    "version": 3
   },
   "file_extension": ".py",
   "mimetype": "text/x-python",
   "name": "python",
   "nbconvert_exporter": "python",
   "pygments_lexer": "ipython3",
   "version": "3.7.7"
  },
  "toc": {
   "base_numbering": 1,
   "nav_menu": {},
   "number_sections": true,
   "sideBar": true,
   "skip_h1_title": false,
   "title_cell": "Table of Contents",
   "title_sidebar": "Contents",
   "toc_cell": false,
   "toc_position": {},
   "toc_section_display": true,
   "toc_window_display": false
  },
  "varInspector": {
   "cols": {
    "lenName": 16,
    "lenType": 16,
    "lenVar": 40
   },
   "kernels_config": {
    "python": {
     "delete_cmd_postfix": "",
     "delete_cmd_prefix": "del ",
     "library": "var_list.py",
     "varRefreshCmd": "print(var_dic_list())"
    },
    "r": {
     "delete_cmd_postfix": ") ",
     "delete_cmd_prefix": "rm(",
     "library": "var_list.r",
     "varRefreshCmd": "cat(var_dic_list()) "
    }
   },
   "types_to_exclude": [
    "module",
    "function",
    "builtin_function_or_method",
    "instance",
    "_Feature"
   ],
   "window_display": false
  }
 },
 "nbformat": 4,
 "nbformat_minor": 4
}
