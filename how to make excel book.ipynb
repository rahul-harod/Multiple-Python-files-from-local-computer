{
 "cells": [
  {
   "cell_type": "code",
   "execution_count": 31,
   "metadata": {},
   "outputs": [
    {
     "data": {
      "text/plain": [
       "OrderedDict([('Longitude',\n",
       "              <class 'netCDF4._netCDF4.Variable'>\n",
       "              float32 Longitude(x1)\n",
       "              path = /SSRD_data\n",
       "              unlimited dimensions: \n",
       "              current shape = (321,)\n",
       "              filling on, default _FillValue of 9.969209968386869e+36 used),\n",
       "             ('Latitude',\n",
       "              <class 'netCDF4._netCDF4.Variable'>\n",
       "              float32 Latitude(y1)\n",
       "              path = /SSRD_data\n",
       "              unlimited dimensions: \n",
       "              current shape = (321,)\n",
       "              filling on, default _FillValue of 9.969209968386869e+36 used),\n",
       "             ('ssrd',\n",
       "              <class 'netCDF4._netCDF4.Variable'>\n",
       "              float32 ssrd(z1, y1, x1)\n",
       "              path = /SSRD_data\n",
       "              unlimited dimensions: \n",
       "              current shape = (365, 321, 321)\n",
       "              filling on, default _FillValue of 9.969209968386869e+36 used),\n",
       "             ('Time',\n",
       "              <class 'netCDF4._netCDF4.Variable'>\n",
       "              int32 Time(z1)\n",
       "              path = /SSRD_data\n",
       "              unlimited dimensions: \n",
       "              current shape = (365,)\n",
       "              filling on, default _FillValue of -2147483647 used)])"
      ]
     },
     "execution_count": 31,
     "metadata": {},
     "output_type": "execute_result"
    }
   ],
   "source": [
    "import numpy as np\n",
    "import pandas as pd\n",
    "import matplotlib.pyplot as plt\n",
    "import netCDF4 as nc\n",
    "\n",
    "ncPath = nc.Dataset(r'F:\\\\annu_solar\\ERA_2011_DailyAvg.nc');\n",
    "stored_f= ncPath.groups['SSRD_data']\n",
    "lat = stored_f.variables['Latitude'][:]\n",
    "lon = stored_f.variables['Longitude'][:]\n",
    "data=stored_f.variables['ssrd'][:,:,:]\n",
    "stored_f.variables"
   ]
  },
  {
   "cell_type": "code",
   "execution_count": 7,
   "metadata": {},
   "outputs": [
    {
     "data": {
      "text/plain": [
       "masked_array(data=[111.0371  , 115.886024, 107.90591 , 117.03328 ,\n",
       "                   112.14633 ,  69.70402 , 115.16344 , 126.30645 ,\n",
       "                   102.71471 ,  47.221508, 106.11212 ,  36.813763,\n",
       "                   131.20607 , 138.24176 ,  69.36174 ,  41.035175,\n",
       "                   110.47298 , 140.07358 ,  78.85041 ,  92.129486,\n",
       "                   140.82785 , 109.332054, 147.43886 , 145.34084 ,\n",
       "                   135.64299 , 118.23759 , 133.42453 ,  99.9448  ,\n",
       "                   106.54314 , 147.27406 , 100.68006 ,  49.123047,\n",
       "                   133.98866 ,  67.89756 , 138.40656 , 106.872734,\n",
       "                   157.13037 ,  90.35471 , 170.90384 , 181.45737 ,\n",
       "                    80.770966, 104.07748 ,  49.19911 , 178.28813 ,\n",
       "                   178.16136 , 174.76396 , 122.148415,  66.45239 ,\n",
       "                    62.09787 , 192.72714 ,  58.611717,  38.328655,\n",
       "                    69.551895, 164.60341 , 199.46492 , 218.68314 ,\n",
       "                   185.39989 , 165.33867 , 199.66776 , 214.27791 ,\n",
       "                   168.0452  , 178.31349 , 212.58553 , 115.271194,\n",
       "                   212.28763 , 233.69893 , 236.46251 , 185.04494 ,\n",
       "                   209.28954 , 197.13872 , 182.12924 , 221.6939  ,\n",
       "                   105.68111 , 189.10788 , 244.27782 , 238.07246 ,\n",
       "                   252.9932  , 256.81528 , 253.22139 , 257.9372  ,\n",
       "                   249.15843 , 193.63988 , 202.43132 , 164.40692 ,\n",
       "                   110.98006 , 191.95386 , 199.22406 , 233.02705 ,\n",
       "                   235.41032 , 277.55472 , 275.86868 , 176.41196 ,\n",
       "                   286.91663 , 288.6914  , 295.93625 , 299.0611  ,\n",
       "                   174.47873 , 209.6318  , 227.0182  , 283.94388 ,\n",
       "                   288.33643 , 280.10278 , 151.5145  , 198.03877 ,\n",
       "                   287.03073 , 315.4207  , 315.0784  , 297.4765  ,\n",
       "                   303.61212 , 291.6071  , 310.80627 , 312.65076 ,\n",
       "                   307.90326 , 301.60916 , 307.17435 , 282.1818  ,\n",
       "                   228.5331  , 266.83005 , 305.67212 , 321.3598  ,\n",
       "                   326.53198 , 322.27255 , 275.5708  , 238.45277 ,\n",
       "                   260.6564  , 295.9109  , 193.10112 , 258.20975 ,\n",
       "                   180.32912 , 277.6181  , 301.9451  , 329.01666 ,\n",
       "                   316.49188 , 310.41962 , 278.97455 , 320.71964 ,\n",
       "                   299.41608 , 293.6227  , 334.5565  , 330.32874 ,\n",
       "                   333.9543  , 304.42978 , 325.47345 , 270.86765 ,\n",
       "                   301.11478 , 332.0591  , 334.6389  , 327.6412  ,\n",
       "                   331.83728 , 345.66144 , 338.93002 , 342.08655 ,\n",
       "                   340.6731  , 252.32132 , 322.5958  , 338.11868 ,\n",
       "                   329.454   , 284.2101  , 319.6484  , 282.81564 ,\n",
       "                   276.65466 , 307.22504 , 318.52017 , 324.70016 ,\n",
       "                   327.27994 , 331.19708 , 326.52563 , 327.83136 ,\n",
       "                   335.3044  , 342.15628 , 338.3849  , 333.1303  ,\n",
       "                   339.72867 , 336.92072 , 325.25797 , 313.37335 ,\n",
       "                   337.5419  , 342.85986 , 343.37326 , 343.6585  ,\n",
       "                   346.9545  , 339.0758  , 331.39993 , 344.84378 ,\n",
       "                   345.99106 , 343.38596 , 342.05487 , 339.77936 ,\n",
       "                   342.03586 , 344.8945  , 344.1529  , 341.6302  ,\n",
       "                   331.81192 , 336.95242 , 329.004   , 341.2689  ,\n",
       "                   337.90317 , 334.77197 , 341.43372 , 336.35025 ,\n",
       "                   335.37415 , 331.15906 , 334.67056 , 337.33905 ,\n",
       "                   337.30103 , 332.53452 , 333.49796 , 325.70166 ,\n",
       "                   323.62262 , 327.14682 , 322.93808 , 327.57782 ,\n",
       "                   325.02344 , 322.0887  , 320.9985  , 320.6182  ,\n",
       "                   320.352   , 315.15445 , 316.85315 , 313.63956 ,\n",
       "                   308.14413 , 309.228   , 310.41962 , 310.9394  ,\n",
       "                   308.56247 , 307.33914 , 311.16757 , 307.83353 ,\n",
       "                   305.4503  , 304.89883 , 295.34677 , 292.52615 ,\n",
       "                   297.34338 , 290.96057 , 286.42856 , 283.22763 ,\n",
       "                   281.61133 , 260.162   , 276.51523 , 274.9116  ,\n",
       "                   259.08447 , 283.52554 , 278.4738  , 275.6215  ,\n",
       "                   274.6644  , 277.11102 , 272.54102 , 268.85837 ,\n",
       "                   265.55603 , 261.01135 , 249.6465  , 261.81635 ,\n",
       "                   260.73245 , 259.25558 , 248.4612  , 251.92834 ,\n",
       "                   221.48473 , 233.4454  , 242.49672 , 242.86435 ,\n",
       "                   244.6708  , 235.37863 , 242.54742 , 240.0881  ,\n",
       "                   218.87962 , 234.99197 , 233.12213 , 234.01585 ,\n",
       "                   228.59013 , 213.65674 , 211.54602 , 222.06787 ,\n",
       "                   220.47691 , 216.10971 , 209.93605 , 213.25742 ,\n",
       "                   191.57988 , 202.2285  , 205.79071 , 200.25723 ,\n",
       "                   202.24117 , 198.26695 , 122.48436 , 179.51779 ,\n",
       "                   179.80937 , 192.79053 , 183.31453 , 179.1375  ,\n",
       "                   181.90106 , 180.08826 , 168.93257 , 171.03061 ,\n",
       "                   165.00906 , 124.366875, 128.46152 , 163.52586 ,\n",
       "                   174.1935  , 158.29665 , 122.19279 ,  71.19356 ,\n",
       "                    96.32554 ,  72.00488 , 104.666954, 100.1413  ,\n",
       "                   115.879684, 118.231255, 146.5388  , 151.5652  ,\n",
       "                   152.3892  ,  71.60556 ,  54.15578 , 111.90547 ,\n",
       "                   143.40126 , 129.7926  , 138.07697 , 128.81648 ,\n",
       "                    50.612583, 136.27051 , 120.918755,  88.656006,\n",
       "                    61.863346,  98.66443 , 124.73451 ,  94.48739 ,\n",
       "                    85.19521 ,  52.19086 ,  36.94687 ,  58.561012,\n",
       "                    49.959724,  77.97571 ,  96.99108 , 119.84756 ,\n",
       "                   124.753525,  65.32414 ,  51.227417,  87.76862 ,\n",
       "                    82.76758 , 108.62849 , 117.971375, 125.64725 ,\n",
       "                   121.045525, 122.68719 , 120.95679 , 122.00897 ,\n",
       "                    59.194855, 118.07279 , 118.00307 , 106.872734,\n",
       "                   100.82584 , 116.52621 ,  81.04986 ,  56.703842,\n",
       "                   122.661835, 122.154755, 123.270325, 123.21328 ,\n",
       "                   117.26147 ,  89.87299 ,  76.65731 ,  82.52038 ,\n",
       "                    95.203636, 118.966515,  78.913795, 115.11273 ],\n",
       "             mask=False,\n",
       "       fill_value=1e+20,\n",
       "            dtype=float32)"
      ]
     },
     "execution_count": 7,
     "metadata": {},
     "output_type": "execute_result"
    }
   ],
   "source": [
    "a=data[1:365,2,2]\n",
    "a"
   ]
  },
  {
   "cell_type": "code",
   "execution_count": 32,
   "metadata": {},
   "outputs": [
    {
     "name": "stdout",
     "output_type": "stream",
     "text": [
      "Patiala\n",
      "New Delhi\n",
      "Dibrugarh\n",
      "Varanasi\n",
      "Patna\n",
      "Shillong\n",
      "Ranchi (A)\n",
      "Nagpur\n",
      "Bubaneshwar\n",
      "Pune\n",
      "Hyderabad\n",
      "Vizag\n",
      "Machilipatnam\n",
      "Panjim\n",
      "Bangalore\n",
      "Kodaikanal\n",
      "Trivandrum\n"
     ]
    }
   ],
   "source": [
    "s=pd.read_csv(\"F:\\\\annu_solar\\SWGDN Stations Coordintes.csv\")\n",
    "lati=s[\"a\"]\n",
    "longi=s[\"Lon\"]\n",
    "stn=s[\"Station Name\"]\n",
    "for j in range(17):\n",
    "    t=stn[j]\n",
    "    print(t)\n"
   ]
  },
  {
   "cell_type": "code",
   "execution_count": 35,
   "metadata": {},
   "outputs": [],
   "source": [
    "\n",
    "import datetime\n",
    "import xlwt\n",
    "\n",
    "\"\"\"Writing Excel File\"\"\"\n",
    "book14= xlwt.Workbook(\"average\");\n",
    "\"\"\"Styling\"\"\"\n",
    "font = xlwt.Font();\n",
    "font.name = 'Calibri';\n",
    "font.height = 200;\n",
    "timeStyle = xlwt.XFStyle();\n",
    "timeStyle.num_format_str = 'hh:mm';\n",
    "timeStyle.font = font;\n",
    "dateStyle = xlwt.XFStyle();\n",
    "dateStyle.num_format_str = 'DD-MM-YYYY';\n",
    "dateStyle.font = font;\n",
    "fontStyle = xlwt.XFStyle();\n",
    "fontStyle.font = font;\n"
   ]
  },
  {
   "cell_type": "code",
   "execution_count": null,
   "metadata": {},
   "outputs": [],
   "source": []
  },
  {
   "cell_type": "code",
   "execution_count": 36,
   "metadata": {},
   "outputs": [],
   "source": [
    "for j in range(len(lati)):\n",
    "    t=stn[j]\n",
    "    a=book14.add_sheet(str(t)) \n",
    "    xlFile=\"E:\\\\20011.xls\"\n",
    "    i=0\n",
    "  \n",
    "    for i in range(365):\n",
    "        \n",
    "        year = 2011;\n",
    "        doy = i+1;\n",
    "        date = datetime.datetime(year,1,1)+datetime.timedelta(doy-1);\n",
    "        b=lati[j]\n",
    "        c=longi[j]\n",
    "\n",
    "        d=stored_f.variables['ssrd'][i,b,c]\n",
    "        meanERA=np.mean(d)\n",
    "        a.write(i+1,0,date,dateStyle);\n",
    "        a.write(i+1,1,float(meanERA),fontStyle);\n",
    "        i+=1\n",
    "\n",
    "book14.save(xlFile);\n",
    "        "
   ]
  },
  {
   "cell_type": "code",
   "execution_count": null,
   "metadata": {},
   "outputs": [],
   "source": [
    "\n",
    "\n",
    "\n",
    "\n"
   ]
  },
  {
   "cell_type": "code",
   "execution_count": null,
   "metadata": {},
   "outputs": [],
   "source": []
  },
  {
   "cell_type": "code",
   "execution_count": null,
   "metadata": {},
   "outputs": [],
   "source": []
  },
  {
   "cell_type": "code",
   "execution_count": null,
   "metadata": {},
   "outputs": [],
   "source": []
  },
  {
   "cell_type": "code",
   "execution_count": null,
   "metadata": {},
   "outputs": [],
   "source": []
  },
  {
   "cell_type": "code",
   "execution_count": null,
   "metadata": {},
   "outputs": [],
   "source": [
    "\n"
   ]
  },
  {
   "cell_type": "code",
   "execution_count": null,
   "metadata": {},
   "outputs": [],
   "source": []
  },
  {
   "cell_type": "code",
   "execution_count": null,
   "metadata": {
    "scrolled": true
   },
   "outputs": [],
   "source": []
  },
  {
   "cell_type": "code",
   "execution_count": null,
   "metadata": {},
   "outputs": [],
   "source": [
    "\n"
   ]
  },
  {
   "cell_type": "code",
   "execution_count": null,
   "metadata": {},
   "outputs": [],
   "source": []
  }
 ],
 "metadata": {
  "kernelspec": {
   "display_name": "Python 3",
   "language": "python",
   "name": "python3"
  },
  "language_info": {
   "codemirror_mode": {
    "name": "ipython",
    "version": 3
   },
   "file_extension": ".py",
   "mimetype": "text/x-python",
   "name": "python",
   "nbconvert_exporter": "python",
   "pygments_lexer": "ipython3",
   "version": "3.7.7"
  }
 },
 "nbformat": 4,
 "nbformat_minor": 4
}
