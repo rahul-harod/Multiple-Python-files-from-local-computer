{
 "cells": [
  {
   "cell_type": "code",
   "execution_count": 48,
   "metadata": {},
   "outputs": [],
   "source": [
    "import numpy as np                                                                                                                                                                                             \n",
    "import matplotlib.pyplot as plt\n",
    "import pandas as pd\n",
    "import seaborn as sns\n",
    "import math\n",
    "from statistics import mean\n",
    "from matplotlib import style\n",
    "style.use('fivethirtyeight')"
   ]
  },
  {
   "cell_type": "code",
   "execution_count": 49,
   "metadata": {},
   "outputs": [],
   "source": [
    "data=pd.read_csv(\"E:\\\\stats_assign_2\\\\census_mp.csv\")"
   ]
  },
  {
   "cell_type": "code",
   "execution_count": 50,
   "metadata": {},
   "outputs": [
    {
     "data": {
      "text/html": [
       "<div>\n",
       "<style scoped>\n",
       "    .dataframe tbody tr th:only-of-type {\n",
       "        vertical-align: middle;\n",
       "    }\n",
       "\n",
       "    .dataframe tbody tr th {\n",
       "        vertical-align: top;\n",
       "    }\n",
       "\n",
       "    .dataframe thead th {\n",
       "        text-align: right;\n",
       "    }\n",
       "</style>\n",
       "<table border=\"1\" class=\"dataframe\">\n",
       "  <thead>\n",
       "    <tr style=\"text-align: right;\">\n",
       "      <th></th>\n",
       "      <th>M.P.</th>\n",
       "      <th>%literacy</th>\n",
       "      <th>%fuel for cooking</th>\n",
       "      <th>%used bank service</th>\n",
       "      <th>%availability of assets</th>\n",
       "    </tr>\n",
       "  </thead>\n",
       "  <tbody>\n",
       "    <tr>\n",
       "      <td>0</td>\n",
       "      <td>Alirajpur</td>\n",
       "      <td>36.1</td>\n",
       "      <td>88.7</td>\n",
       "      <td>36.1</td>\n",
       "      <td>6.5</td>\n",
       "    </tr>\n",
       "    <tr>\n",
       "      <td>1</td>\n",
       "      <td>Anuppur</td>\n",
       "      <td>67.9</td>\n",
       "      <td>80.6</td>\n",
       "      <td>69.7</td>\n",
       "      <td>16.1</td>\n",
       "    </tr>\n",
       "    <tr>\n",
       "      <td>2</td>\n",
       "      <td>Ashoknagar</td>\n",
       "      <td>66.4</td>\n",
       "      <td>59.0</td>\n",
       "      <td>30.4</td>\n",
       "      <td>12.0</td>\n",
       "    </tr>\n",
       "    <tr>\n",
       "      <td>3</td>\n",
       "      <td>Balaghat</td>\n",
       "      <td>77.1</td>\n",
       "      <td>90.6</td>\n",
       "      <td>38.5</td>\n",
       "      <td>13.6</td>\n",
       "    </tr>\n",
       "    <tr>\n",
       "      <td>4</td>\n",
       "      <td>Barwani</td>\n",
       "      <td>49.1</td>\n",
       "      <td>59.4</td>\n",
       "      <td>38.3</td>\n",
       "      <td>7.4</td>\n",
       "    </tr>\n",
       "    <tr>\n",
       "      <td>5</td>\n",
       "      <td>Betul</td>\n",
       "      <td>68.9</td>\n",
       "      <td>79.9</td>\n",
       "      <td>62.0</td>\n",
       "      <td>12.4</td>\n",
       "    </tr>\n",
       "    <tr>\n",
       "      <td>6</td>\n",
       "      <td>Bhind</td>\n",
       "      <td>75.3</td>\n",
       "      <td>57.3</td>\n",
       "      <td>34.4</td>\n",
       "      <td>14.8</td>\n",
       "    </tr>\n",
       "    <tr>\n",
       "      <td>7</td>\n",
       "      <td>Bhopal</td>\n",
       "      <td>80.4</td>\n",
       "      <td>27.0</td>\n",
       "      <td>61.9</td>\n",
       "      <td>26.3</td>\n",
       "    </tr>\n",
       "    <tr>\n",
       "      <td>8</td>\n",
       "      <td>Burhanpur</td>\n",
       "      <td>64.4</td>\n",
       "      <td>57.4</td>\n",
       "      <td>42.5</td>\n",
       "      <td>7.8</td>\n",
       "    </tr>\n",
       "    <tr>\n",
       "      <td>9</td>\n",
       "      <td>Chhatarpur</td>\n",
       "      <td>63.7</td>\n",
       "      <td>81.7</td>\n",
       "      <td>42.1</td>\n",
       "      <td>17.7</td>\n",
       "    </tr>\n",
       "    <tr>\n",
       "      <td>10</td>\n",
       "      <td>Chhindwara</td>\n",
       "      <td>71.2</td>\n",
       "      <td>77.3</td>\n",
       "      <td>55.4</td>\n",
       "      <td>14.6</td>\n",
       "    </tr>\n",
       "    <tr>\n",
       "      <td>11</td>\n",
       "      <td>Damoh</td>\n",
       "      <td>69.7</td>\n",
       "      <td>83.1</td>\n",
       "      <td>30.5</td>\n",
       "      <td>15.2</td>\n",
       "    </tr>\n",
       "    <tr>\n",
       "      <td>12</td>\n",
       "      <td>Datia</td>\n",
       "      <td>72.6</td>\n",
       "      <td>52.8</td>\n",
       "      <td>41.8</td>\n",
       "      <td>14.4</td>\n",
       "    </tr>\n",
       "    <tr>\n",
       "      <td>13</td>\n",
       "      <td>Dewas</td>\n",
       "      <td>69.3</td>\n",
       "      <td>68.2</td>\n",
       "      <td>47.2</td>\n",
       "      <td>11.6</td>\n",
       "    </tr>\n",
       "    <tr>\n",
       "      <td>14</td>\n",
       "      <td>Dhar</td>\n",
       "      <td>59.0</td>\n",
       "      <td>53.9</td>\n",
       "      <td>42.7</td>\n",
       "      <td>7.5</td>\n",
       "    </tr>\n",
       "    <tr>\n",
       "      <td>15</td>\n",
       "      <td>Dindori</td>\n",
       "      <td>63.9</td>\n",
       "      <td>94.8</td>\n",
       "      <td>69.1</td>\n",
       "      <td>15.1</td>\n",
       "    </tr>\n",
       "    <tr>\n",
       "      <td>16</td>\n",
       "      <td>Guna</td>\n",
       "      <td>63.2</td>\n",
       "      <td>72.9</td>\n",
       "      <td>34.0</td>\n",
       "      <td>15.2</td>\n",
       "    </tr>\n",
       "    <tr>\n",
       "      <td>17</td>\n",
       "      <td>Gwalior</td>\n",
       "      <td>76.7</td>\n",
       "      <td>30.0</td>\n",
       "      <td>55.1</td>\n",
       "      <td>15.0</td>\n",
       "    </tr>\n",
       "    <tr>\n",
       "      <td>18</td>\n",
       "      <td>Harda</td>\n",
       "      <td>72.5</td>\n",
       "      <td>74.9</td>\n",
       "      <td>45.1</td>\n",
       "      <td>6.0</td>\n",
       "    </tr>\n",
       "    <tr>\n",
       "      <td>19</td>\n",
       "      <td>Hoshangabad</td>\n",
       "      <td>75.3</td>\n",
       "      <td>67.2</td>\n",
       "      <td>49.9</td>\n",
       "      <td>9.0</td>\n",
       "    </tr>\n",
       "  </tbody>\n",
       "</table>\n",
       "</div>"
      ],
      "text/plain": [
       "           M.P.  %literacy  %fuel for cooking  %used bank service  \\\n",
       "0     Alirajpur       36.1               88.7                36.1   \n",
       "1       Anuppur       67.9               80.6                69.7   \n",
       "2    Ashoknagar       66.4               59.0                30.4   \n",
       "3      Balaghat       77.1               90.6                38.5   \n",
       "4       Barwani       49.1               59.4                38.3   \n",
       "5         Betul       68.9               79.9                62.0   \n",
       "6         Bhind       75.3               57.3                34.4   \n",
       "7        Bhopal       80.4               27.0                61.9   \n",
       "8     Burhanpur       64.4               57.4                42.5   \n",
       "9    Chhatarpur       63.7               81.7                42.1   \n",
       "10   Chhindwara       71.2               77.3                55.4   \n",
       "11        Damoh       69.7               83.1                30.5   \n",
       "12        Datia       72.6               52.8                41.8   \n",
       "13        Dewas       69.3               68.2                47.2   \n",
       "14         Dhar       59.0               53.9                42.7   \n",
       "15      Dindori       63.9               94.8                69.1   \n",
       "16         Guna       63.2               72.9                34.0   \n",
       "17      Gwalior       76.7               30.0                55.1   \n",
       "18        Harda       72.5               74.9                45.1   \n",
       "19  Hoshangabad       75.3               67.2                49.9   \n",
       "\n",
       "    %availability of assets  \n",
       "0                       6.5  \n",
       "1                      16.1  \n",
       "2                      12.0  \n",
       "3                      13.6  \n",
       "4                       7.4  \n",
       "5                      12.4  \n",
       "6                      14.8  \n",
       "7                      26.3  \n",
       "8                       7.8  \n",
       "9                      17.7  \n",
       "10                     14.6  \n",
       "11                     15.2  \n",
       "12                     14.4  \n",
       "13                     11.6  \n",
       "14                      7.5  \n",
       "15                     15.1  \n",
       "16                     15.2  \n",
       "17                     15.0  \n",
       "18                      6.0  \n",
       "19                      9.0  "
      ]
     },
     "execution_count": 50,
     "metadata": {},
     "output_type": "execute_result"
    }
   ],
   "source": [
    "data.head(20)          #to print top 20 rows"
   ]
  },
  {
   "cell_type": "code",
   "execution_count": 51,
   "metadata": {},
   "outputs": [
    {
     "name": "stdout",
     "output_type": "stream",
     "text": [
      "no. of districts : 50\n"
     ]
    }
   ],
   "source": [
    "print(\"no. of districts : \"+str(len(data.index)))"
   ]
  },
  {
   "cell_type": "markdown",
   "metadata": {},
   "source": [
    "## ANALYSIS PART"
   ]
  },
  {
   "cell_type": "code",
   "execution_count": 52,
   "metadata": {},
   "outputs": [
    {
     "data": {
      "text/plain": [
       "<matplotlib.axes._subplots.AxesSubplot at 0x1fff6ec4e48>"
      ]
     },
     "execution_count": 52,
     "metadata": {},
     "output_type": "execute_result"
    },
    {
     "data": {
      "image/png": "[encoded data removed]",
      "text/plain": [
       "<Figure size 432x288 with 1 Axes>"
      ]
     },
     "metadata": {},
     "output_type": "display_data"
    }
   ],
   "source": [
    "data[\"%literacy\"].plot.hist()"
   ]
  },
  {
   "cell_type": "code",
   "execution_count": 56,
   "metadata": {},
   "outputs": [],
   "source": [
    "x=np.array(data['%literacy'])\n",
    "y=np.array(data['%used bank service'])\n"
   ]
  },
  {
   "cell_type": "code",
   "execution_count": 57,
   "metadata": {},
   "outputs": [],
   "source": [
    "def best_fit_slop_and_intercept(x,y):\n",
    "    m=(mean(x)*mean(y)-mean(x*y))/((mean(x))**2-mean(x**2))\n",
    "    c=mean(y)-m*mean(x)\n",
    "   \n",
    "    return m,c\n",
    "\n"
   ]
  },
  {
   "cell_type": "code",
   "execution_count": 62,
   "metadata": {},
   "outputs": [
    {
     "name": "stdout",
     "output_type": "stream",
     "text": [
      "0.31360716561529145 24.98118538816338\n"
     ]
    },
    {
     "data": {
      "image/png": "[encoded data removed]",
      "text/plain": [
       "<Figure size 432x288 with 1 Axes>"
      ]
     },
     "metadata": {},
     "output_type": "display_data"
    },
    {
     "name": "stdout",
     "output_type": "stream",
     "text": [
      "0.27876632112153715 -5.386577211432368\n"
     ]
    },
    {
     "data": {
      "image/png": "[encoded data removed]",
      "text/plain": [
       "<Figure size 432x288 with 1 Axes>"
      ]
     },
     "metadata": {},
     "output_type": "display_data"
    }
   ],
   "source": [
    "m,c=best_fit_slop_and_intercept(x,y)\n",
    "print(m,c)\n",
    "reg_line1=m*x+c\n",
    "plt.scatter(x,y)\n",
    "plt.plot(x,reg_line1)\n",
    "plt.show()\n",
    "\n",
    "y2=np.array(data['%availability of assets'])\n",
    "m,c=best_fit_slop_and_intercept(x,y2)\n",
    "print(m,c)\n",
    "\n",
    "reg_line2=m*x+c\n",
    "\n",
    "plt.scatter(x,y2)\n",
    "plt.plot(x,reg_line2)\n",
    "plt.show()\n"
   ]
  },
  {
   "cell_type": "markdown",
   "metadata": {},
   "source": [
    "## R_square"
   ]
  },
  {
   "cell_type": "code",
   "execution_count": 63,
   "metadata": {},
   "outputs": [],
   "source": [
    "def sq_error(y_orig,y_line):\n",
    "    return sum((y_line-y_orig)**2)\n",
    "\n",
    "def coefficient_of_determination(y_orig,y_line):\n",
    "    mean_orig=mean(y_orig)\n",
    "    SE_data=sq_error(mean_orig,y_orig)\n",
    "    SE_predicted=sq_error(y_line,y_orig)\n",
    "    return 1-(SE_predicted/SE_data)\n",
    "    \n"
   ]
  },
  {
   "cell_type": "code",
   "execution_count": 64,
   "metadata": {},
   "outputs": [
    {
     "name": "stdout",
     "output_type": "stream",
     "text": [
      "0.060041481500449634\n"
     ]
    }
   ],
   "source": [
    "r_sq=coefficient_of_determination(y,reg_line1)\n",
    "print(r_sq)"
   ]
  },
  {
   "cell_type": "code",
   "execution_count": 65,
   "metadata": {},
   "outputs": [
    {
     "name": "stdout",
     "output_type": "stream",
     "text": [
      "0.1924044322674051\n"
     ]
    }
   ],
   "source": [
    "r_sq2=coefficient_of_determination(y2,reg_line2)\n",
    "print(r_sq2)"
   ]
  },
  {
   "cell_type": "markdown",
   "metadata": {},
   "source": [
    "## test\n",
    "\n",
    "\n",
    "\n"
   ]
  },
  {
   "cell_type": "code",
   "execution_count": 86,
   "metadata": {},
   "outputs": [
    {
     "name": "stdout",
     "output_type": "stream",
     "text": [
      "slop :  2.0    intercept : 0.0\n"
     ]
    },
    {
     "data": {
      "image/png": "[encoded data removed]",
      "text/plain": [
       "<Figure size 432x288 with 1 Axes>"
      ]
     },
     "metadata": {},
     "output_type": "display_data"
    },
    {
     "name": "stdout",
     "output_type": "stream",
     "text": [
      "coeff_of_det_is :  1.0\n"
     ]
    }
   ],
   "source": [
    "x=np.array([2,3,4,5,6])\n",
    "y=np.array([4,6,8,10,12])\n",
    "m,c=best_fit_slop_and_intercept(x,y)\n",
    "print('slop : ',m , '   intercept :',c)\n",
    "reg_line1=m*x+c\n",
    "plt.scatter(x,y)\n",
    "plt.plot(x,reg_line1)\n",
    "plt.show()\n",
    "rsq=coefficient_of_determination(y,reg_line1)\n",
    "print('coeff_of_det_is : ',rsq)"
   ]
  },
  {
   "cell_type": "markdown",
   "metadata": {},
   "source": [
    "## random validation"
   ]
  },
  {
   "cell_type": "code",
   "execution_count": 101,
   "metadata": {},
   "outputs": [],
   "source": [
    "import random\n",
    "def create_dataset(no,variance,step=2,correlation=False):\n",
    "    val=1\n",
    "    ya=[]\n",
    "    for i in range(no):\n",
    "        y=val+random.randrange(-variance,variance)\n",
    "        ya.append(y)\n",
    "        if correlation and correlation=='pos':\n",
    "            val+=step\n",
    "        elif correlation and correlation=='neg':\n",
    "            val-=step\n",
    "    x=[i for i in range (len(ya))]\n",
    "    return x,ya"
   ]
  },
  {
   "cell_type": "code",
   "execution_count": 128,
   "metadata": {},
   "outputs": [],
   "source": [
    "x,y=create_dataset(40,10,2,correlation='neg')  #see the change in coeff of det by changing variance like2,10,20 etc\n",
    "x=np.array(x)\n",
    "y=np.array(y)"
   ]
  },
  {
   "cell_type": "code",
   "execution_count": 129,
   "metadata": {},
   "outputs": [
    {
     "name": "stdout",
     "output_type": "stream",
     "text": [
      "slop :  -1.9473684210526316    intercept : 0.0\n"
     ]
    },
    {
     "data": {
      "image/png": "[encoded data removed]",
      "text/plain": [
       "<Figure size 432x288 with 1 Axes>"
      ]
     },
     "metadata": {},
     "output_type": "display_data"
    },
    {
     "name": "stdout",
     "output_type": "stream",
     "text": [
      "coeff_of_det_is :  0.947718697440419\n"
     ]
    }
   ],
   "source": [
    "m,c=best_fit_slop_and_intercept(x,y)\n",
    "print('slop : ',m , '   intercept :',c)\n",
    "reg_line1=m*x+c\n",
    "plt.scatter(x,y)\n",
    "plt.plot(x,reg_line1)\n",
    "plt.show()\n",
    "rsq=coefficient_of_determination(y,reg_line1)\n",
    "print('coeff_of_det_is : ',rsq)"
   ]
  },
  {
   "cell_type": "code",
   "execution_count": null,
   "metadata": {},
   "outputs": [],
   "source": []
  }
 ],
 "metadata": {
  "kernelspec": {
   "display_name": "Python 3",
   "language": "python",
   "name": "python3"
  },
  "language_info": {
   "codemirror_mode": {
    "name": "ipython",
    "version": 3
   },
   "file_extension": ".py",
   "mimetype": "text/x-python",
   "name": "python",
   "nbconvert_exporter": "python",
   "pygments_lexer": "ipython3",
   "version": "3.7.7"
  }
 },
 "nbformat": 4,
 "nbformat_minor": 2
}
