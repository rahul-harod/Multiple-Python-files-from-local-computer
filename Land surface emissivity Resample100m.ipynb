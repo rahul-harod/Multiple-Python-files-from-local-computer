{
 "cells": [
  {
   "cell_type": "code",
   "execution_count": 2,
   "metadata": {
    "ExecuteTime": {
     "end_time": "2020-08-07T07:44:01.288741Z",
     "start_time": "2020-08-07T07:44:01.272741Z"
    }
   },
   "outputs": [],
   "source": [
    "import numpy as np\n",
    "from osgeo import gdal\n",
    "import matplotlib.pyplot as plt"
   ]
  },
  {
   "cell_type": "markdown",
   "metadata": {},
   "source": [
    "open Blueband,Redband, NIRband, SWIRband as array and fillvalue replace by np.nan"
   ]
  },
  {
   "cell_type": "code",
   "execution_count": 3,
   "metadata": {
    "ExecuteTime": {
     "end_time": "2020-08-07T07:44:22.620265Z",
     "start_time": "2020-08-07T07:44:02.991760Z"
    }
   },
   "outputs": [],
   "source": [
    "#import all bands as array\n",
    "path=r\"E:\\LST project\\train_data_set\\delhi\\LE07_L1TP_146040_20010504_20170205_01_T1_sr_band\"\n",
    "blue=gdal.Open(path+\"1.tif\")\n",
    "blueband=blue.GetRasterBand(1).ReadAsArray()\n",
    "blueband=blueband.astype(\"float\")\n",
    "blueband[blueband<0]=np.nan\n",
    "\n",
    "Red=gdal.Open(path+\"3.tif\")\n",
    "Redband=Red.GetRasterBand(1).ReadAsArray()\n",
    "Redband=Redband.astype(\"float\")\n",
    "Redband[Redband<0]=np.nan\n",
    "\n",
    "NIR=gdal.Open(path+\"4.tif\")\n",
    "NIRband=NIR.GetRasterBand(1).ReadAsArray()\n",
    "NIRband=NIRband.astype(\"float\")\n",
    "NIRband[NIRband<0]=np.nan\n",
    "\n",
    "SWIR=gdal.Open(path+\"5.tif\")\n",
    "SWIRband=SWIR.GetRasterBand(1).ReadAsArray()\n",
    "SWIRband=SWIRband.astype(\"float\")\n",
    "SWIRband[SWIRband<0]=np.nan"
   ]
  },
  {
   "cell_type": "code",
   "execution_count": 4,
   "metadata": {
    "ExecuteTime": {
     "end_time": "2020-08-07T07:44:23.181801Z",
     "start_time": "2020-08-07T07:44:23.173800Z"
    }
   },
   "outputs": [],
   "source": [
    "### clip small area extent\n",
    "#a,b=1000,6000\n",
    "#blueband=blueband[a:b,a:b]\n",
    "#Redband=Redband[a:b,a:b]\n",
    "#NIRband=NIRband[a:b,a:b]\n",
    "#SWIRband=SWIRband[a:b,a:b]"
   ]
  },
  {
   "cell_type": "markdown",
   "metadata": {},
   "source": [
    "function to calculate emissivity. \n",
    "if vegetated area, emissivity is calculated based on NDWI. soil threshold -0.02 and vegetation threshold 0.4 . \n",
    "if non vegetated area, emissivity is calculated based on EVI. soil threshold 0.12 and vegetation threshold 0.41"
   ]
  },
  {
   "cell_type": "code",
   "execution_count": 5,
   "metadata": {
    "ExecuteTime": {
     "end_time": "2020-08-07T07:44:39.885392Z",
     "start_time": "2020-08-07T07:44:23.325810Z"
    }
   },
   "outputs": [],
   "source": [
    "satellite=\"landsat7\"\n",
    "### soil emissivity es\n",
    "if satellite==\"landsat8\":\n",
    "    es=-0.00000475*Redband+0.9788\n",
    "if satellite==\"landsat7\":\n",
    "    es=-0.00000408*Redband+0.9796\n",
    "\n",
    "def emissivity_veg():\n",
    "    NDWI=(NIRband-SWIRband)/(NIRband+SWIRband)\n",
    "    fv=((NDWI+0.02)/(NDWI+0.4))**2\n",
    "    fv[fv>=1]=1\n",
    "    ev=0.985\n",
    "    c=0.02*fv*(1-fv)\n",
    "    c[c==0]=0.005\n",
    "    e=np.zeros((NDWI.shape[0],NDWI.shape[1]))\n",
    "    for i in range(e.shape[0]):\n",
    "        for j in range (e.shape[1]):\n",
    "            if NDWI[i,j]==np.nan:\n",
    "                continue\n",
    "            \n",
    "            if NDWI[i,j]<-0.02:\n",
    "                e[i,j]=es[i,j]\n",
    "            \n",
    "            if NDWI[i,j]>=-0.02 and NDWI[i,j]<=0.4:\n",
    "                e[i,j]=fv[i,j]*ev+(1-fv[i,j])*es[i,j]+c[i,j]\n",
    "            \n",
    "            if NDWI[i,j]>0.4:\n",
    "                e[i,j]=ev\n",
    "    return e\n",
    "\n",
    "def emissivity_non_veg():\n",
    "    EVI=(2.5*(NIRband-Redband))/(NIRband+6*Redband-7.5*blueband+10000)\n",
    "    fv=((EVI-0.12)/(EVI+0.41))**2\n",
    "    fv[fv>=1]=1\n",
    "    ev=0.985\n",
    "    c=0.02*fv*(1-fv)\n",
    "    c[c==0]=0.005\n",
    "    e=np.zeros((EVI.shape[0],EVI.shape[1]))\n",
    "    for i in range(e.shape[0]):\n",
    "        for j in range (e.shape[1]):\n",
    "            if EVI[i,j]==np.nan:\n",
    "                continue\n",
    "            \n",
    "            if EVI[i,j]<0.12:\n",
    "                e[i,j]=es[i,j]\n",
    "            \n",
    "            if EVI[i,j]>=0.12 and EVI[i,j]<=0.41:\n",
    "                e[i,j]=fv[i,j]*ev+(1-fv[i,j])*es[i,j]+c[i,j]\n",
    "            \n",
    "            if EVI[i,j]>0.4:\n",
    "                e[i,j]=ev\n",
    "    return e"
   ]
  },
  {
   "cell_type": "markdown",
   "metadata": {},
   "source": [
    "NDVI mean calculation to identify the area (vegetated(NDVI MEAN>0.25) or non vegetated(NDVI MEAN<=0.25))"
   ]
  },
  {
   "cell_type": "code",
   "execution_count": 6,
   "metadata": {
    "ExecuteTime": {
     "end_time": "2020-08-07T07:45:10.277082Z",
     "start_time": "2020-08-07T07:44:40.477818Z"
    }
   },
   "outputs": [
    {
     "name": "stdout",
     "output_type": "stream",
     "text": [
      "0.22581477274157033\n"
     ]
    }
   ],
   "source": [
    "NDVI=(NIRband-Redband)/(NIRband+Redband)\n",
    "NDVImean=np.nanmean(NDVI)\n",
    "print(NDVImean)\n",
    "\n",
    "def emissivity():\n",
    "    if NDVImean>0.25:\n",
    "        emissivity=emissivity_veg()\n",
    "    if NDVImean<=0.25:\n",
    "        emissivity=emissivity_non_veg()\n",
    "    return emissivity"
   ]
  },
  {
   "cell_type": "code",
   "execution_count": 7,
   "metadata": {
    "ExecuteTime": {
     "end_time": "2020-08-07T07:49:48.472909Z",
     "start_time": "2020-08-07T07:45:10.645029Z"
    }
   },
   "outputs": [
    {
     "name": "stderr",
     "output_type": "stream",
     "text": [
      "C:\\ProgramData\\Anaconda3\\lib\\site-packages\\ipykernel_launcher.py:34: RuntimeWarning: invalid value encountered in greater_equal\n"
     ]
    }
   ],
   "source": [
    "emissivity=emissivity()"
   ]
  },
  {
   "cell_type": "code",
   "execution_count": 8,
   "metadata": {
    "ExecuteTime": {
     "end_time": "2020-08-07T07:49:49.429554Z",
     "start_time": "2020-08-07T07:49:49.149599Z"
    }
   },
   "outputs": [],
   "source": [
    "emissivity[emissivity==0.0]=np.nan"
   ]
  },
  {
   "cell_type": "code",
   "execution_count": 9,
   "metadata": {
    "ExecuteTime": {
     "end_time": "2020-08-07T07:49:49.765510Z",
     "start_time": "2020-08-07T07:49:49.597534Z"
    }
   },
   "outputs": [],
   "source": [
    "def WriteImage(outpath,image,proj,geo):\n",
    "    ds=None\n",
    "    driver=gdal.GetDriverByName(\"GTiff\")\n",
    "    ds=driver.Create(outpath,image.shape[1],image.shape[0], 1,gdal.GDT_Float32)\n",
    "    ds.SetProjection(proj)\n",
    "    ds.SetGeoTransform(geo)\n",
    "    ds.GetRasterBand(1).WriteArray(image)\n",
    "    return ds"
   ]
  },
  {
   "cell_type": "code",
   "execution_count": 10,
   "metadata": {
    "ExecuteTime": {
     "end_time": "2020-08-07T07:52:35.651241Z",
     "start_time": "2020-08-07T07:52:14.040886Z"
    }
   },
   "outputs": [],
   "source": [
    "projection=blue.GetProjection()\n",
    "geotrans=blue.GetGeoTransform()\n",
    "VE=WriteImage(r\"E:\\LST project\\train_data_set\\delhi\\V_emissivity.tif\",emissivity,projection,geotrans)\n",
    "t=gdal.Warp(r\"E:\\LST project\\train_data_set\\delhi\\vegetation_based_emissivity_resample.tif\",VE,\n",
    "         xRes=100,yRes=100,\n",
    "          resampleAlg=gdal.GRA_Average\n",
    "         )"
   ]
  },
  {
   "cell_type": "code",
   "execution_count": 11,
   "metadata": {
    "ExecuteTime": {
     "end_time": "2020-08-07T07:52:38.735694Z",
     "start_time": "2020-08-07T07:52:35.890437Z"
    }
   },
   "outputs": [
    {
     "data": {
      "text/plain": [
       "(0.898, 0.985)"
      ]
     },
     "execution_count": 11,
     "metadata": {},
     "output_type": "execute_result"
    }
   ],
   "source": [
    "np.nanmin(emissivity),np.nanmax(emissivity)"
   ]
  },
  {
   "cell_type": "code",
   "execution_count": 12,
   "metadata": {
    "ExecuteTime": {
     "end_time": "2020-08-07T07:52:38.916861Z",
     "start_time": "2020-08-07T07:52:38.796874Z"
    }
   },
   "outputs": [
    {
     "data": {
      "text/plain": [
       "(2091, 2319)"
      ]
     },
     "execution_count": 12,
     "metadata": {},
     "output_type": "execute_result"
    }
   ],
   "source": [
    "t.ReadAsArray().shape"
   ]
  },
  {
   "cell_type": "code",
   "execution_count": null,
   "metadata": {},
   "outputs": [],
   "source": []
  }
 ],
 "metadata": {
  "kernelspec": {
   "display_name": "Python 3",
   "language": "python",
   "name": "python3"
  },
  "language_info": {
   "codemirror_mode": {
    "name": "ipython",
    "version": 3
   },
   "file_extension": ".py",
   "mimetype": "text/x-python",
   "name": "python",
   "nbconvert_exporter": "python",
   "pygments_lexer": "ipython3",
   "version": "3.7.7"
  },
  "toc": {
   "base_numbering": 1,
   "nav_menu": {},
   "number_sections": true,
   "sideBar": true,
   "skip_h1_title": false,
   "title_cell": "Table of Contents",
   "title_sidebar": "Contents",
   "toc_cell": false,
   "toc_position": {},
   "toc_section_display": true,
   "toc_window_display": false
  },
  "varInspector": {
   "cols": {
    "lenName": 16,
    "lenType": 16,
    "lenVar": 40
   },
   "kernels_config": {
    "python": {
     "delete_cmd_postfix": "",
     "delete_cmd_prefix": "del ",
     "library": "var_list.py",
     "varRefreshCmd": "print(var_dic_list())"
    },
    "r": {
     "delete_cmd_postfix": ") ",
     "delete_cmd_prefix": "rm(",
     "library": "var_list.r",
     "varRefreshCmd": "cat(var_dic_list()) "
    }
   },
   "types_to_exclude": [
    "module",
    "function",
    "builtin_function_or_method",
    "instance",
    "_Feature"
   ],
   "window_display": false
  }
 },
 "nbformat": 4,
 "nbformat_minor": 4
}
