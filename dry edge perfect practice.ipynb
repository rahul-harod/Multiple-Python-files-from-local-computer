{
 "cells": [
  {
   "cell_type": "code",
   "execution_count": 116,
   "metadata": {},
   "outputs": [],
   "source": [
    "import numpy as np\n",
    "import pandas as pd\n",
    "import matplotlib.pyplot as plt\n",
    "from osgeo import gdal\n",
    "import statsmodels.api as sm\n",
    "import seaborn as sns\n",
    "sns.set()"
   ]
  },
  {
   "cell_type": "code",
   "execution_count": 87,
   "metadata": {},
   "outputs": [],
   "source": [
    "ndvi=gdal.Open('E:\\\\NDVI2016DEC.tif')\n",
    "srt=gdal.Open('E:\\\\LC08_L1TP_146044_20161215_20170316_01_T1_sr_band6.tif')"
   ]
  },
  {
   "cell_type": "code",
   "execution_count": 88,
   "metadata": {},
   "outputs": [
    {
     "name": "stderr",
     "output_type": "stream",
     "text": [
      "C:\\ProgramData\\Anaconda3\\lib\\site-packages\\ipykernel_launcher.py:9: RuntimeWarning: divide by zero encountered in true_divide\n",
      "  if __name__ == '__main__':\n"
     ]
    },
    {
     "data": {
      "text/plain": [
       "<bound method DataFrame.info of              ndvi       srt\n",
       "0        0.217009  1.457079\n",
       "1        0.209605  1.423837\n",
       "2        0.218116  1.360363\n",
       "3        0.210719  1.413660\n",
       "4        0.196644  1.448670\n",
       "...           ...       ...\n",
       "8999995  0.259339  0.766494\n",
       "8999996  0.298067  0.875153\n",
       "8999997  0.339187  0.879006\n",
       "8999998  0.337237  0.843991\n",
       "8999999  0.302793  1.209901\n",
       "\n",
       "[9000000 rows x 2 columns]>"
      ]
     },
     "execution_count": 88,
     "metadata": {},
     "output_type": "execute_result"
    }
   ],
   "source": [
    "ndvi1=ndvi.ReadAsArray()\n",
    "srt1=srt.ReadAsArray()\n",
    "ndvi2=np.array(ndvi1)\n",
    "ndvi2=ndvi2[2000:5000,2000:5000]\n",
    "ndvi2=np.reshape(ndvi2,-1)\n",
    "srt2=np.array(srt1)\n",
    "srt2=srt2[2000:5000,2000:5000]\n",
    "srt2=np.reshape(srt2,-1)\n",
    "srt=((1-srt2*0.0001)**2)/(0.0002*srt2)\n",
    "data=pd.DataFrame({\"ndvi\":ndvi2,'srt':srt})\n",
    "data.info"
   ]
  },
  {
   "cell_type": "code",
   "execution_count": 95,
   "metadata": {},
   "outputs": [
    {
     "data": {
      "text/plain": [
       "<matplotlib.collections.PathCollection at 0x24889091a48>"
      ]
     },
     "execution_count": 95,
     "metadata": {},
     "output_type": "execute_result"
    },
    {
     "data": {
      "image/png": "[encoded data removed]",
      "text/plain": [
       "<Figure size 432x288 with 1 Axes>"
      ]
     },
     "metadata": {},
     "output_type": "display_data"
    }
   ],
   "source": [
    "data3=data[data['ndvi']>0 ]\n",
    "data3=data3[data3['srt']<200]\n",
    "data4=data3[data3['srt']>-100]\n",
    "\n",
    "plt.scatter(data4['ndvi'],data4['srt'])\n"
   ]
  },
  {
   "cell_type": "code",
   "execution_count": 114,
   "metadata": {},
   "outputs": [
    {
     "data": {
      "text/html": [
       "<div>\n",
       "<style scoped>\n",
       "    .dataframe tbody tr th:only-of-type {\n",
       "        vertical-align: middle;\n",
       "    }\n",
       "\n",
       "    .dataframe tbody tr th {\n",
       "        vertical-align: top;\n",
       "    }\n",
       "\n",
       "    .dataframe thead th {\n",
       "        text-align: right;\n",
       "    }\n",
       "</style>\n",
       "<table border=\"1\" class=\"dataframe\">\n",
       "  <thead>\n",
       "    <tr style=\"text-align: right;\">\n",
       "      <th></th>\n",
       "      <th>ndvi</th>\n",
       "      <th>srt</th>\n",
       "    </tr>\n",
       "  </thead>\n",
       "  <tbody>\n",
       "    <tr>\n",
       "      <th>8712531</th>\n",
       "      <td>0.00</td>\n",
       "      <td>93.342273</td>\n",
       "    </tr>\n",
       "    <tr>\n",
       "      <th>3534217</th>\n",
       "      <td>0.01</td>\n",
       "      <td>115.281220</td>\n",
       "    </tr>\n",
       "    <tr>\n",
       "      <th>75434</th>\n",
       "      <td>0.02</td>\n",
       "      <td>56.475614</td>\n",
       "    </tr>\n",
       "    <tr>\n",
       "      <th>7209346</th>\n",
       "      <td>0.03</td>\n",
       "      <td>75.926327</td>\n",
       "    </tr>\n",
       "    <tr>\n",
       "      <th>333486</th>\n",
       "      <td>0.04</td>\n",
       "      <td>70.432071</td>\n",
       "    </tr>\n",
       "    <tr>\n",
       "      <th>8709532</th>\n",
       "      <td>0.05</td>\n",
       "      <td>82.336333</td>\n",
       "    </tr>\n",
       "    <tr>\n",
       "      <th>153422</th>\n",
       "      <td>0.06</td>\n",
       "      <td>49.510001</td>\n",
       "    </tr>\n",
       "    <tr>\n",
       "      <th>282440</th>\n",
       "      <td>0.07</td>\n",
       "      <td>70.432071</td>\n",
       "    </tr>\n",
       "    <tr>\n",
       "      <th>240398</th>\n",
       "      <td>0.08</td>\n",
       "      <td>64.793274</td>\n",
       "    </tr>\n",
       "    <tr>\n",
       "      <th>105397</th>\n",
       "      <td>0.09</td>\n",
       "      <td>55.822582</td>\n",
       "    </tr>\n",
       "    <tr>\n",
       "      <th>174409</th>\n",
       "      <td>0.10</td>\n",
       "      <td>60.732445</td>\n",
       "    </tr>\n",
       "    <tr>\n",
       "      <th>7748451</th>\n",
       "      <td>0.11</td>\n",
       "      <td>103.169067</td>\n",
       "    </tr>\n",
       "    <tr>\n",
       "      <th>123394</th>\n",
       "      <td>0.12</td>\n",
       "      <td>83.748713</td>\n",
       "    </tr>\n",
       "    <tr>\n",
       "      <th>123400</th>\n",
       "      <td>0.13</td>\n",
       "      <td>75.926327</td>\n",
       "    </tr>\n",
       "    <tr>\n",
       "      <th>8709531</th>\n",
       "      <td>0.14</td>\n",
       "      <td>59.979710</td>\n",
       "    </tr>\n",
       "    <tr>\n",
       "      <th>351480</th>\n",
       "      <td>0.15</td>\n",
       "      <td>61.504000</td>\n",
       "    </tr>\n",
       "    <tr>\n",
       "      <th>249415</th>\n",
       "      <td>0.16</td>\n",
       "      <td>68.448044</td>\n",
       "    </tr>\n",
       "    <tr>\n",
       "      <th>3160648</th>\n",
       "      <td>0.17</td>\n",
       "      <td>51.088133</td>\n",
       "    </tr>\n",
       "    <tr>\n",
       "      <th>339477</th>\n",
       "      <td>0.18</td>\n",
       "      <td>57.827779</td>\n",
       "    </tr>\n",
       "    <tr>\n",
       "      <th>7227346</th>\n",
       "      <td>0.19</td>\n",
       "      <td>55.184225</td>\n",
       "    </tr>\n",
       "  </tbody>\n",
       "</table>\n",
       "</div>"
      ],
      "text/plain": [
       "         ndvi         srt\n",
       "8712531  0.00   93.342273\n",
       "3534217  0.01  115.281220\n",
       "75434    0.02   56.475614\n",
       "7209346  0.03   75.926327\n",
       "333486   0.04   70.432071\n",
       "8709532  0.05   82.336333\n",
       "153422   0.06   49.510001\n",
       "282440   0.07   70.432071\n",
       "240398   0.08   64.793274\n",
       "105397   0.09   55.822582\n",
       "174409   0.10   60.732445\n",
       "7748451  0.11  103.169067\n",
       "123394   0.12   83.748713\n",
       "123400   0.13   75.926327\n",
       "8709531  0.14   59.979710\n",
       "351480   0.15   61.504000\n",
       "249415   0.16   68.448044\n",
       "3160648  0.17   51.088133\n",
       "339477   0.18   57.827779\n",
       "7227346  0.19   55.184225"
      ]
     },
     "execution_count": 114,
     "metadata": {},
     "output_type": "execute_result"
    }
   ],
   "source": [
    "data1=data4.round({'ndvi':2})\n",
    "sort=data1.sort_values(by='srt',ascending=False).drop_duplicates(['ndvi'])\n",
    "#data2=sort.groupby(['ndvi']).head(2)\n",
    "data2=sort.sort_values(by='ndvi',ascending=True)\n",
    "data2.head(20)"
   ]
  },
  {
   "cell_type": "code",
   "execution_count": null,
   "metadata": {},
   "outputs": [],
   "source": []
  },
  {
   "cell_type": "code",
   "execution_count": 97,
   "metadata": {},
   "outputs": [],
   "source": []
  },
  {
   "cell_type": "code",
   "execution_count": 115,
   "metadata": {},
   "outputs": [
    {
     "data": {
      "image/png": "[encoded data removed]",
      "text/plain": [
       "<Figure size 432x288 with 1 Axes>"
      ]
     },
     "metadata": {},
     "output_type": "display_data"
    }
   ],
   "source": [
    "plt.scatter(data4['ndvi'],data4['srt'])\n",
    "plt.scatter(data2['ndvi'],data2['srt'],c='r', s=20)\n",
    "plt.show()"
   ]
  },
  {
   "cell_type": "code",
   "execution_count": 117,
   "metadata": {},
   "outputs": [
    {
     "data": {
      "text/html": [
       "<table class=\"simpletable\">\n",
       "<caption>OLS Regression Results</caption>\n",
       "<tr>\n",
       "  <th>Dep. Variable:</th>           <td>srt</td>       <th>  R-squared:         </th> <td>   0.847</td>\n",
       "</tr>\n",
       "<tr>\n",
       "  <th>Model:</th>                   <td>OLS</td>       <th>  Adj. R-squared:    </th> <td>   0.845</td>\n",
       "</tr>\n",
       "<tr>\n",
       "  <th>Method:</th>             <td>Least Squares</td>  <th>  F-statistic:       </th> <td>   546.6</td>\n",
       "</tr>\n",
       "<tr>\n",
       "  <th>Date:</th>             <td>Tue, 21 Apr 2020</td> <th>  Prob (F-statistic):</th> <td>4.25e-42</td>\n",
       "</tr>\n",
       "<tr>\n",
       "  <th>Time:</th>                 <td>04:08:52</td>     <th>  Log-Likelihood:    </th> <td> -381.50</td>\n",
       "</tr>\n",
       "<tr>\n",
       "  <th>No. Observations:</th>      <td>   101</td>      <th>  AIC:               </th> <td>   767.0</td>\n",
       "</tr>\n",
       "<tr>\n",
       "  <th>Df Residuals:</th>          <td>    99</td>      <th>  BIC:               </th> <td>   772.2</td>\n",
       "</tr>\n",
       "<tr>\n",
       "  <th>Df Model:</th>              <td>     1</td>      <th>                     </th>     <td> </td>   \n",
       "</tr>\n",
       "<tr>\n",
       "  <th>Covariance Type:</th>      <td>nonrobust</td>    <th>                     </th>     <td> </td>   \n",
       "</tr>\n",
       "</table>\n",
       "<table class=\"simpletable\">\n",
       "<tr>\n",
       "    <td></td>       <th>coef</th>     <th>std err</th>      <th>t</th>      <th>P>|t|</th>  <th>[0.025</th>    <th>0.975]</th>  \n",
       "</tr>\n",
       "<tr>\n",
       "  <th>const</th> <td>   74.7570</td> <td>    2.105</td> <td>   35.515</td> <td> 0.000</td> <td>   70.580</td> <td>   78.934</td>\n",
       "</tr>\n",
       "<tr>\n",
       "  <th>ndvi</th>  <td>  -84.8459</td> <td>    3.629</td> <td>  -23.380</td> <td> 0.000</td> <td>  -92.047</td> <td>  -77.645</td>\n",
       "</tr>\n",
       "</table>\n",
       "<table class=\"simpletable\">\n",
       "<tr>\n",
       "  <th>Omnibus:</th>       <td>41.469</td> <th>  Durbin-Watson:     </th> <td>   1.371</td>\n",
       "</tr>\n",
       "<tr>\n",
       "  <th>Prob(Omnibus):</th> <td> 0.000</td> <th>  Jarque-Bera (JB):  </th> <td> 100.384</td>\n",
       "</tr>\n",
       "<tr>\n",
       "  <th>Skew:</th>          <td> 1.538</td> <th>  Prob(JB):          </th> <td>1.59e-22</td>\n",
       "</tr>\n",
       "<tr>\n",
       "  <th>Kurtosis:</th>      <td> 6.793</td> <th>  Cond. No.          </th> <td>    4.33</td>\n",
       "</tr>\n",
       "</table><br/><br/>Warnings:<br/>[1] Standard Errors assume that the covariance matrix of the errors is correctly specified."
      ],
      "text/plain": [
       "<class 'statsmodels.iolib.summary.Summary'>\n",
       "\"\"\"\n",
       "                            OLS Regression Results                            \n",
       "==============================================================================\n",
       "Dep. Variable:                    srt   R-squared:                       0.847\n",
       "Model:                            OLS   Adj. R-squared:                  0.845\n",
       "Method:                 Least Squares   F-statistic:                     546.6\n",
       "Date:                Tue, 21 Apr 2020   Prob (F-statistic):           4.25e-42\n",
       "Time:                        04:08:52   Log-Likelihood:                -381.50\n",
       "No. Observations:                 101   AIC:                             767.0\n",
       "Df Residuals:                      99   BIC:                             772.2\n",
       "Df Model:                           1                                         \n",
       "Covariance Type:            nonrobust                                         \n",
       "==============================================================================\n",
       "                 coef    std err          t      P>|t|      [0.025      0.975]\n",
       "------------------------------------------------------------------------------\n",
       "const         74.7570      2.105     35.515      0.000      70.580      78.934\n",
       "ndvi         -84.8459      3.629    -23.380      0.000     -92.047     -77.645\n",
       "==============================================================================\n",
       "Omnibus:                       41.469   Durbin-Watson:                   1.371\n",
       "Prob(Omnibus):                  0.000   Jarque-Bera (JB):              100.384\n",
       "Skew:                           1.538   Prob(JB):                     1.59e-22\n",
       "Kurtosis:                       6.793   Cond. No.                         4.33\n",
       "==============================================================================\n",
       "\n",
       "Warnings:\n",
       "[1] Standard Errors assume that the covariance matrix of the errors is correctly specified.\n",
       "\"\"\""
      ]
     },
     "execution_count": 117,
     "metadata": {},
     "output_type": "execute_result"
    }
   ],
   "source": [
    "x1=data2['ndvi']\n",
    "y=data2['srt']\n",
    "x=sm.add_constant(x1)\n",
    "results=sm.OLS(y,x).fit()\n",
    "results.summary()"
   ]
  },
  {
   "cell_type": "code",
   "execution_count": 118,
   "metadata": {},
   "outputs": [
    {
     "data": {
      "image/png": "[encoded data removed]",
      "text/plain": [
       "<Figure size 432x288 with 1 Axes>"
      ]
     },
     "metadata": {},
     "output_type": "display_data"
    }
   ],
   "source": [
    "dry_edge=-87.8459*x1+74.757\n",
    "plt.scatter(data4['ndvi'],data4['srt'])\n",
    "plt.scatter(data2['ndvi'],data2['srt'],c='r', s=20)\n",
    "plt.plot(x1,dry_edge,c='orange')\n",
    "plt.show()"
   ]
  },
  {
   "cell_type": "code",
   "execution_count": null,
   "metadata": {},
   "outputs": [],
   "source": []
  }
 ],
 "metadata": {
  "kernelspec": {
   "display_name": "Python 3",
   "language": "python",
   "name": "python3"
  },
  "language_info": {
   "codemirror_mode": {
    "name": "ipython",
    "version": 3
   },
   "file_extension": ".py",
   "mimetype": "text/x-python",
   "name": "python",
   "nbconvert_exporter": "python",
   "pygments_lexer": "ipython3",
   "version": "3.7.7"
  }
 },
 "nbformat": 4,
 "nbformat_minor": 4
}
