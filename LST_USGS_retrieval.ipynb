{
 "cells": [
  {
   "cell_type": "code",
   "execution_count": 1,
   "metadata": {
    "ExecuteTime": {
     "end_time": "2021-02-06T14:56:01.061777Z",
     "start_time": "2021-02-06T14:55:42.091235Z"
    }
   },
   "outputs": [],
   "source": [
    "import os\n",
    "import glob\n",
    "from pyproj import Proj\n",
    "import rasterio\n",
    "import rasterio.plot\n",
    "import pyproj\n",
    "import numpy as np\n",
    "import matplotlib\n",
    "from osgeo import gdal\n",
    "import matplotlib.pyplot as plt\n",
    "import pandas as pd"
   ]
  },
  {
   "cell_type": "code",
   "execution_count": 2,
   "metadata": {
    "ExecuteTime": {
     "end_time": "2021-02-06T14:56:07.674328Z",
     "start_time": "2021-02-06T14:56:01.113753Z"
    }
   },
   "outputs": [],
   "source": [
    "filepath=r'F:\\USGS_LST\\Berambadi Karnataka\\LE07_L2SP_144052_20140219_20200906_02_T1_ST_B6.TIF'\n",
    "lst=gdal.Open(filepath)\n",
    "lst=lst.ReadAsArray()"
   ]
  },
  {
   "cell_type": "code",
   "execution_count": 3,
   "metadata": {
    "ExecuteTime": {
     "end_time": "2021-02-06T14:56:10.945108Z",
     "start_time": "2021-02-06T14:56:07.805042Z"
    }
   },
   "outputs": [],
   "source": [
    "LST=0.00341802*lst + 149.0\n",
    "# plt.imshow(LST)\n",
    "# plt.colorbar()\n",
    "# plt.title('LST(K) {}'.format(LST.shape))\n",
    "# plt.xlabel('Column #')\n",
    "# plt.ylabel('Row #')"
   ]
  },
  {
   "cell_type": "code",
   "execution_count": 4,
   "metadata": {
    "ExecuteTime": {
     "end_time": "2021-02-06T14:56:17.828366Z",
     "start_time": "2021-02-06T14:56:16.962819Z"
    }
   },
   "outputs": [
    {
     "name": "stdout",
     "output_type": "stream",
     "text": [
      "673015.0003470267 1300626.9387758374\n",
      "row,col=\t\t(2766,2704)\n",
      "LST=\t\t\t318.5372\n"
     ]
    }
   ],
   "source": [
    "from pyproj import Proj\n",
    "with rasterio.open(filepath) as src:\n",
    "    p = Proj(proj='utm',zone=43,ellps='WGS84', preserve_units=False)\n",
    "\n",
    "    lon,lat = p(76.587776041276,11.761113)\n",
    "    print(lon,lat)\n",
    "    rows, cols = src.index(lon,lat)\n",
    "    print(f'row,col=\\t\\t({rows},{cols})')\n",
    "\n",
    "    value = LST[rows, cols]\n",
    "    print(f'LST=\\t\\t\\t{value:.4f}')"
   ]
  },
  {
   "cell_type": "code",
   "execution_count": null,
   "metadata": {
    "ExecuteTime": {
     "end_time": "2021-02-02T04:59:37.599098Z",
     "start_time": "2021-02-02T04:59:37.572107Z"
    }
   },
   "outputs": [],
   "source": []
  },
  {
   "cell_type": "code",
   "execution_count": null,
   "metadata": {
    "ExecuteTime": {
     "end_time": "2021-02-02T09:21:24.678078Z",
     "start_time": "2021-02-02T09:21:24.663086Z"
    }
   },
   "outputs": [],
   "source": []
  },
  {
   "cell_type": "code",
   "execution_count": 31,
   "metadata": {
    "ExecuteTime": {
     "end_time": "2021-02-05T17:58:09.305594Z",
     "start_time": "2021-02-05T17:58:09.299597Z"
    }
   },
   "outputs": [],
   "source": [
    "p = Proj(proj='utm',zone=42,ellps='WGS84', preserve_units=False)"
   ]
  },
  {
   "cell_type": "code",
   "execution_count": null,
   "metadata": {
    "ExecuteTime": {
     "end_time": "2021-02-02T07:20:29.679607Z",
     "start_time": "2021-02-02T07:20:29.389442Z"
    }
   },
   "outputs": [],
   "source": []
  },
  {
   "cell_type": "code",
   "execution_count": 11,
   "metadata": {
    "ExecuteTime": {
     "end_time": "2021-02-06T09:14:13.702939Z",
     "start_time": "2021-02-06T09:14:13.630985Z"
    }
   },
   "outputs": [],
   "source": [
    "basicFilePath='F:/USGS_LST'\n",
    "siteName=\"Berambadi Karnataka\"\n",
    "filepath=r\"F://USGS_LST/Berambadi Karnataka\"\n",
    "cordLon,cordLat=76.587776041276,11.761113"
   ]
  },
  {
   "cell_type": "code",
   "execution_count": 12,
   "metadata": {
    "ExecuteTime": {
     "end_time": "2021-02-06T09:14:36.576374Z",
     "start_time": "2021-02-06T09:14:14.232611Z"
    }
   },
   "outputs": [
    {
     "name": "stdout",
     "output_type": "stream",
     "text": [
      "LC08_L2SP_144052_20160116_20200907_02_T1_ST_B10.TIF\n",
      "673015.0003470267 1300626.9387758374\n",
      "row,col=\t\t(3136,2414)\n",
      "LST=\t\t\t309.45\n",
      "LE07_L2SP_144052_20120504_20200909_02_T1_ST_B6.TIF\n",
      "673015.0003470267 1300626.9387758374\n",
      "row,col=\t\t(2776,3154)\n",
      "LST=\t\t\t320.48\n",
      "LE07_L2SP_144052_20140203_20200907_02_T1_ST_B6.TIF\n",
      "673015.0003470267 1300626.9387758374\n",
      "row,col=\t\t(2796,3034)\n",
      "LST=\t\t\t313.98\n",
      "LE07_L2SP_144052_20151223_20200903_02_T1_ST_B6.TIF\n",
      "673015.0003470267 1300626.9387758374\n",
      "row,col=\t\t(2776,2684)\n",
      "LST=\t\t\t307.92\n"
     ]
    }
   ],
   "source": [
    "Date=[]\n",
    "USGS_LST=[]\n",
    "landsat=[]\n",
    "for root, dirs, files in os.walk(filepath):\n",
    "    for name in files:\n",
    "        print(name)\n",
    "        landsat.append('L'+name[3:4])\n",
    "        date=name[17:21]+'-'+name[21:23]+'-'+name[23:25]\n",
    "        filepath=os.path.join(root, name)\n",
    "        lst=gdal.Open(filepath)\n",
    "        lst=lst.ReadAsArray()\n",
    "        LST=0.00341802*lst + 149.0\n",
    "\n",
    "        with rasterio.open(filepath) as src:\n",
    "            p = Proj(proj='utm',zone=43,ellps='WGS84', preserve_units=False)\n",
    "            lon,lat = p(cordLon,cordLat)\n",
    "            print(lon,lat)\n",
    "            row,col=src.index(lon,lat)\n",
    "            print(f'row,col=\\t\\t({row},{col})')\n",
    "            value = LST[row, col]\n",
    "            print(f'LST=\\t\\t\\t{value:.2f}')\n",
    "            Date.append(date)\n",
    "            USGS_LST.append(value)"
   ]
  },
  {
   "cell_type": "code",
   "execution_count": 13,
   "metadata": {
    "ExecuteTime": {
     "end_time": "2021-02-06T09:14:43.820565Z",
     "start_time": "2021-02-06T09:14:42.430629Z"
    }
   },
   "outputs": [],
   "source": [
    "df=pd.DataFrame(columns=[\"Date\",\"Landsat\",\"USGS_LST\"])\n",
    "for i in range(len(USGS_LST)):\n",
    "    df1=pd.DataFrame({\"Date\":[Date[i]],\"Landsat\":[landsat[i]],\"USGS_LST\":[USGS_LST[i]]})\n",
    "    df=df.append(df1,ignore_index=True)"
   ]
  },
  {
   "cell_type": "code",
   "execution_count": 14,
   "metadata": {
    "ExecuteTime": {
     "end_time": "2021-02-06T09:14:44.348067Z",
     "start_time": "2021-02-06T09:14:44.026977Z"
    }
   },
   "outputs": [
    {
     "data": {
      "text/html": [
       "<div>\n",
       "<style scoped>\n",
       "    .dataframe tbody tr th:only-of-type {\n",
       "        vertical-align: middle;\n",
       "    }\n",
       "\n",
       "    .dataframe tbody tr th {\n",
       "        vertical-align: top;\n",
       "    }\n",
       "\n",
       "    .dataframe thead th {\n",
       "        text-align: right;\n",
       "    }\n",
       "</style>\n",
       "<table border=\"1\" class=\"dataframe\">\n",
       "  <thead>\n",
       "    <tr style=\"text-align: right;\">\n",
       "      <th></th>\n",
       "      <th>Date</th>\n",
       "      <th>Landsat</th>\n",
       "      <th>USGS_LST</th>\n",
       "    </tr>\n",
       "  </thead>\n",
       "  <tbody>\n",
       "    <tr>\n",
       "      <th>0</th>\n",
       "      <td>2016-01-16</td>\n",
       "      <td>L8</td>\n",
       "      <td>309.445277</td>\n",
       "    </tr>\n",
       "    <tr>\n",
       "      <th>1</th>\n",
       "      <td>2012-05-04</td>\n",
       "      <td>L7</td>\n",
       "      <td>320.478645</td>\n",
       "    </tr>\n",
       "    <tr>\n",
       "      <th>2</th>\n",
       "      <td>2014-02-03</td>\n",
       "      <td>L7</td>\n",
       "      <td>313.977571</td>\n",
       "    </tr>\n",
       "    <tr>\n",
       "      <th>3</th>\n",
       "      <td>2015-12-23</td>\n",
       "      <td>L7</td>\n",
       "      <td>307.920840</td>\n",
       "    </tr>\n",
       "  </tbody>\n",
       "</table>\n",
       "</div>"
      ],
      "text/plain": [
       "         Date Landsat    USGS_LST\n",
       "0  2016-01-16      L8  309.445277\n",
       "1  2012-05-04      L7  320.478645\n",
       "2  2014-02-03      L7  313.977571\n",
       "3  2015-12-23      L7  307.920840"
      ]
     },
     "execution_count": 14,
     "metadata": {},
     "output_type": "execute_result"
    }
   ],
   "source": [
    "df"
   ]
  },
  {
   "cell_type": "code",
   "execution_count": 15,
   "metadata": {
    "ExecuteTime": {
     "end_time": "2021-02-06T09:14:44.811901Z",
     "start_time": "2021-02-06T09:14:44.412453Z"
    }
   },
   "outputs": [],
   "source": [
    "df.to_csv(os.path.join(basicFilePath, siteName)+'USGS_LST.csv')"
   ]
  },
  {
   "cell_type": "code",
   "execution_count": null,
   "metadata": {
    "ExecuteTime": {
     "end_time": "2021-02-02T08:08:25.933194Z",
     "start_time": "2021-02-02T08:08:25.899214Z"
    }
   },
   "outputs": [],
   "source": []
  },
  {
   "cell_type": "code",
   "execution_count": 32,
   "metadata": {
    "ExecuteTime": {
     "end_time": "2021-02-02T09:16:20.551015Z",
     "start_time": "2021-02-02T09:15:59.836152Z"
    }
   },
   "outputs": [
    {
     "name": "stdout",
     "output_type": "stream",
     "text": [
      "LT05_L2SP_151043_20100524_20200824_02_T1.tar\n",
      "None\n"
     ]
    }
   ],
   "source": [
    "# Date=[]\n",
    "# USGS_LST=[]\n",
    "# landsat=[]\n",
    "# for root, dirs, files in os.walk(basicFilePath):\n",
    "#     for name in files:\n",
    "#         if name.endswith((siteName, \"ST_B6.TIF\")):\n",
    "#             landsat.append('L'+files[0][3:4])\n",
    "#             date=name[17:21]+'-'+name[21:23]+'-'+name[23:25]\n",
    "#             filepath=os.path.join(root, name)\n",
    "#             lst=gdal.Open(filepath)\n",
    "#             lst=lst.ReadAsArray()\n",
    "#             LST=0.00341802*lst + 149.0\n",
    "        \n",
    "#             with rasterio.open(filepath) as src:\n",
    "#                 p = Proj(proj='utm',zone=43,ellps='WGS84', preserve_units=False)\n",
    "\n",
    "#                 lon,lat = p(cordLon,cordLat)\n",
    "#                 print(lon,lat)\n",
    "#                 row,col=src.index(lon,lat)\n",
    "#                 print(f'row,col=\\t\\t({row},{col})')\n",
    "\n",
    "#                 value = LST[row, col]\n",
    "#                 print(f'LST=\\t\\t\\t{value:.2f}')\n",
    "#                 Date.append(date)\n",
    "#                 USGS_LST.append(value)"
   ]
  },
  {
   "cell_type": "code",
   "execution_count": null,
   "metadata": {
    "ExecuteTime": {
     "end_time": "2021-02-02T09:01:22.843619Z",
     "start_time": "2021-02-02T09:01:22.814640Z"
    }
   },
   "outputs": [],
   "source": []
  },
  {
   "cell_type": "code",
   "execution_count": null,
   "metadata": {},
   "outputs": [],
   "source": []
  }
 ],
 "metadata": {
  "kernelspec": {
   "display_name": "Python 3",
   "language": "python",
   "name": "python3"
  },
  "language_info": {
   "codemirror_mode": {
    "name": "ipython",
    "version": 3
   },
   "file_extension": ".py",
   "mimetype": "text/x-python",
   "name": "python",
   "nbconvert_exporter": "python",
   "pygments_lexer": "ipython3",
   "version": "3.7.7"
  },
  "toc": {
   "base_numbering": 1,
   "nav_menu": {},
   "number_sections": true,
   "sideBar": true,
   "skip_h1_title": false,
   "title_cell": "Table of Contents",
   "title_sidebar": "Contents",
   "toc_cell": false,
   "toc_position": {},
   "toc_section_display": true,
   "toc_window_display": false
  },
  "varInspector": {
   "cols": {
    "lenName": 16,
    "lenType": 16,
    "lenVar": 40
   },
   "kernels_config": {
    "python": {
     "delete_cmd_postfix": "",
     "delete_cmd_prefix": "del ",
     "library": "var_list.py",
     "varRefreshCmd": "print(var_dic_list())"
    },
    "r": {
     "delete_cmd_postfix": ") ",
     "delete_cmd_prefix": "rm(",
     "library": "var_list.r",
     "varRefreshCmd": "cat(var_dic_list()) "
    }
   },
   "types_to_exclude": [
    "module",
    "function",
    "builtin_function_or_method",
    "instance",
    "_Feature"
   ],
   "window_display": false
  }
 },
 "nbformat": 4,
 "nbformat_minor": 4
}
